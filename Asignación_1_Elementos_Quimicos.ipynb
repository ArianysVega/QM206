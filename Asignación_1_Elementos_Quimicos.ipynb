{
  "nbformat": 4,
  "nbformat_minor": 0,
  "metadata": {
    "colab": {
      "provenance": [],
      "authorship_tag": "ABX9TyNY26yS05eKEpnrfi/el9T+",
      "include_colab_link": true
    },
    "kernelspec": {
      "name": "python3",
      "display_name": "Python 3"
    },
    "language_info": {
      "name": "python"
    }
  },
  "cells": [
    {
      "cell_type": "markdown",
      "metadata": {
        "id": "view-in-github",
        "colab_type": "text"
      },
      "source": [
        "<a href=\"https://colab.research.google.com/github/ArianysVega/QM206/blob/main/Asignaci%C3%B3n_1_Elementos_Quimicos.ipynb\" target=\"_parent\"><img src=\"https://colab.research.google.com/assets/colab-badge.svg\" alt=\"Open In Colab\"/></a>"
      ]
    },
    {
      "cell_type": "code",
      "execution_count": null,
      "metadata": {
        "colab": {
          "base_uri": "https://localhost:8080/"
        },
        "id": "fDDR5BwvBvlr",
        "outputId": "e169a9a8-cb16-4c14-b10a-9cbf7950ea14"
      },
      "outputs": [
        {
          "output_type": "stream",
          "name": "stdout",
          "text": [
            "{'simbolo': 'Li', 'NA': 3, 'masa': 6.939}\n"
          ]
        }
      ],
      "source": [
        "elementos=[]\n",
        "elem={\"simbolo\":\"H\",\"NA\":1,\"masa\":1.008}\n",
        "elementos.append(elem)\n",
        "elem={\"simbolo\":\"He\",\"NA\":2,\"masa\":4.003}\n",
        "elementos.append(elem)\n",
        "elem={\"simbolo\":\"Li\",\"NA\":3,\"masa\":6.939}\n",
        "elementos.append(elem)\n",
        "elem={\"simbolo\":\"Be\",\"NA\":4,\"masa\":9.012}\n",
        "elementos.append(elem)\n",
        "elem={\"simbolo\":\"B\",\"NA\":5,\"masa\":10.811}\n",
        "elementos.append(elem)\n",
        "elem={\"simbolo\":\"C\",\"NA\":6,\"masa\":12.011}\n",
        "elementos.append(elem)\n",
        "elem={\"simbolo\":\"N\",\"NA\":7,\"masa\":14.006}\n",
        "elementos.append(elem)\n",
        "elem={\"simbolo\":\"O\",\"NA\":8,\"masa\":15.999}\n",
        "elementos.append(elem)\n",
        "elem={\"simbolo\":\"F\",\"NA\":9,\"masa\":18.998}\n",
        "elementos.append(elem)\n",
        "elem={\"simbolo\":\"Ne\",\"NA\":10,\"masa\":20.183}\n",
        "elementos.append(elem)\n",
        "elem={\"simbolo\":\"Na\",\"NA\":11,\"masa\":22.939}\n",
        "elementos.append(elem)\n",
        "elem={\"simbolo\":\"Mg\",\"NA\":12,\"masa\":24.312}\n",
        "elementos.append(elem)\n",
        "elem={\"simbolo\":\"Al\",\"NA\":13,\"masa\":26.981}\n",
        "elementos.append(elem)\n",
        "elem={\"simbolo\":\"Si\",\"NA\":14,\"masa\":28.086}\n",
        "elementos.append(elem)\n",
        "elem={\"simbolo\":\"p\",\"NA\":15,\"masa\":30.973}\n",
        "elementos.append(elem)\n",
        "elem={\"simbolo\":\"S\",\"NA\":16,\"masa\":32.064}\n",
        "elementos.append(elem)\n",
        "elem={\"simbolo\":\"Cl\",\"NA\":17,\"masa\":35.453}\n",
        "elementos.append(elem)\n",
        "elem={\"simbolo\":\"Ar\",\"NA\":18,\"masa\":39.948}\n",
        "elementos.append(elem)\n",
        "elem={\"simbolo\":\"K\",\"NA\":19,\"masa\":39.102}\n",
        "elementos.append(elem)\n",
        "elem={\"simbolo\":\"Ca\",\"NA\":20,\"masa\":40.08}\n",
        "elementos.append(elem)\n",
        "print(elementos[2])"
      ]
    }
  ]
}